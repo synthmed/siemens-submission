{
 "cells": [
  {
   "cell_type": "markdown",
   "metadata": {},
   "source": [
    "# Geometry Segmentation Mask Generation Using DCGAN"
   ]
  },
  {
   "cell_type": "markdown",
   "metadata": {},
   "source": [
    "**Importing Required Libraries**"
   ]
  },
  {
   "cell_type": "code",
   "execution_count": null,
   "metadata": {},
   "outputs": [],
   "source": [
    "import os\n",
    "import tensorflow as tf\n",
    "import scipy.misc\n",
    "import numpy as np\n",
    "from geometry-model import DCGAN\n",
    "from utils import pp, visualize, to_json, show_all_variables"
   ]
  },
  {
   "cell_type": "markdown",
   "metadata": {},
   "source": [
    "**Running/Parameterization**"
   ]
  },
  {
   "cell_type": "code",
   "execution_count": null,
   "metadata": {},
   "outputs": [],
   "source": [
    "def main(_):\n",
    "  run_config = tf.ConfigProto()\n",
    "  run_config.gpu_options.allow_growth=True\n",
    "\n",
    "  with tf.Session(config=run_config) as sess:\n",
    "    dcgan = DCGAN(\n",
    "        sess,\n",
    "        input_width=512,\n",
    "        input_height=512,\n",
    "        output_width=512,\n",
    "        output_height=512,\n",
    "        batch_size=7,\n",
    "        sample_num=10,\n",
    "        dataset_name=\"data\",\n",
    "        input_fname_pattern=\"*.png\",\n",
    "        crop=False,\n",
    "        checkpoint_dir=\"checkpoint\",\n",
    "        sample_dir=\"output\")\n",
    "    \n",
    "    show_all_variables()\n",
    "    dcgan.train()\n",
    "      \n",
    "\n",
    "      OPTION = 1\n",
    "      visualize(sess, dcgan, FLAGS, OPTION)\n",
    "\n",
    "if __name__ == '__main__':\n",
    "    tf.app.run()"
   ]
  }
 ],
 "metadata": {
  "kernelspec": {
   "display_name": "Python 2",
   "language": "python",
   "name": "python2"
  },
  "language_info": {
   "codemirror_mode": {
    "name": "ipython",
    "version": 2
   },
   "file_extension": ".py",
   "mimetype": "text/x-python",
   "name": "python",
   "nbconvert_exporter": "python",
   "pygments_lexer": "ipython2",
   "version": "2.7.13"
  }
 },
 "nbformat": 4,
 "nbformat_minor": 2
}
